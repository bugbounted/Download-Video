{
 "cells": [
  {
   "cell_type": "code",
   "execution_count": null,
   "metadata": {
    "id": "4MnPr2qaGl6i"
   },
   "outputs": [],
   "source": [
    "!pip install youtube_dl"
   ]
  },
  {
   "cell_type": "code",
   "execution_count": null,
   "metadata": {
    "colab": {
     "base_uri": "https://localhost:8080/"
    },
    "id": "SfZI1Ri6Weub",
    "outputId": "e6a5f218-677c-4674-9521-1c2414458376"
   },
   "outputs": [],
   "source": [
    "import os\n",
    "import string\n",
    "import youtube_dl\n",
    "from google.colab import drive"
   ]
  },
  {
   "cell_type": "code",
   "execution_count": null,
   "metadata": {
    "colab": {
     "base_uri": "https://localhost:8080/",
     "height": 327
    },
    "id": "E2pxU14xySw5",
    "outputId": "70204111-c832-425f-ab10-43ea35b83068"
   },
   "outputs": [],
   "source": [
    "drive.mount('/content/drive', force_remount=True)"
   ]
  },
  {
   "cell_type": "code",
   "execution_count": null,
   "metadata": {
    "id": "kbMHEMOZSZ_Z"
   },
   "outputs": [],
   "source": [
    "#Youtube video or playlist URL\n",
    "URL = \"https://www.youtube.com/....\""
   ]
  },
  {
   "cell_type": "code",
   "execution_count": null,
   "metadata": {
    "id": "WcT3lrH6GM3n"
   },
   "outputs": [],
   "source": [
    "x = \"۰۱۲۳۴۵۶۷۸۹\"\n",
    "y = \"0123456789\"\n",
    "table_digit = str.maketrans(x, y)\n",
    "table_punctuation = str.maketrans(string.punctuation, '_'*len(string.punctuation))"
   ]
  },
  {
   "cell_type": "code",
   "execution_count": null,
   "metadata": {
    "id": "Tapm0mG3F5ba"
   },
   "outputs": [],
   "source": [
    "with youtube_dl.YoutubeDL({\"ignoreerrors\": True, \"quiet\": True}) as ydl:\n",
    "    playlist_dict = ydl.extract_info(URL, download=False)\n",
    "    print('\\n', playlist_dict['title'], '\\n')\n",
    "\n",
    "new_folder = playlist_dict['title']\n",
    "new_folder = new_folder.translate(table_punctuation)   \n",
    "new_folder = new_folder.translate(table_digit) \n",
    "\n",
    "path = f\"//content//drive//MyDrive//{new_folder}//\"\n",
    "os.makedirs(path, exist_ok=True)\n",
    "\n",
    "os.chdir(path)\n",
    "print(os.getcwd())"
   ]
  },
  {
   "cell_type": "code",
   "execution_count": null,
   "metadata": {
    "id": "gErW2w1ZLfaR"
   },
   "outputs": [],
   "source": [
    "def download_video(url):\n",
    "    youtube_dl_options = {\n",
    "        \"format\": \"(bestvideo+bestaudio/best)\", \n",
    "        \"sub-format\": \"srt\",\n",
    "        \"convert-subs\":\"srt\",\n",
    "        \"sub-lang\": \"en\",    \n",
    "        \"outtmpl\":\"%(autonumber)s_%(title)s.%(ext)s\",\n",
    "        \"restrictfilenames\": True,\n",
    "        \"nooverwrites\": True,\n",
    "        \"writedescription\": True,\n",
    "        \"writeinfojson\": False,\n",
    "        \"writeannotations\": True,\n",
    "        \"writethumbnail\": False,\n",
    "        \"writesubtitles\": True,\n",
    "        \"writeautomaticsub\": True,\n",
    "        'subtitle': '--write-srt  --sub-format str --sub-lang en'\n",
    "    }\n",
    "\n",
    "    try:\n",
    "        with youtube_dl.YoutubeDL(youtube_dl_options) as ydl:\n",
    "            ydl.cache.remove()\n",
    "            info_dict = ydl.extract_info(url, download=False)\n",
    "            ydl.prepare_filename(info_dict)\n",
    "            ydl.download([url])\n",
    "            return True\n",
    "    except Exception:\n",
    "        return False "
   ]
  },
  {
   "cell_type": "code",
   "execution_count": null,
   "metadata": {
    "id": "Y7iL0xjRW3NO"
   },
   "outputs": [],
   "source": [
    "download_video(URL)"
   ]
  },
  {
   "cell_type": "code",
   "execution_count": null,
   "metadata": {
    "id": "2uT_KbNjYkBg"
   },
   "outputs": [],
   "source": [
    "!ls"
   ]
  }
 ],
 "metadata": {
  "colab": {
   "collapsed_sections": [],
   "name": "Youtubedl.ipynb",
   "provenance": []
  },
  "kernelspec": {
   "display_name": "Python 3 (ipykernel)",
   "language": "python",
   "name": "python3"
  },
  "language_info": {
   "codemirror_mode": {
    "name": "ipython",
    "version": 3
   },
   "file_extension": ".py",
   "mimetype": "text/x-python",
   "name": "python",
   "nbconvert_exporter": "python",
   "pygments_lexer": "ipython3",
   "version": "3.9.12"
  }
 },
 "nbformat": 4,
 "nbformat_minor": 1
}

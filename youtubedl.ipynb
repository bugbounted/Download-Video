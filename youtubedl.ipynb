{
 "cells": [
  {
   "cell_type": "code",
   "execution_count": null,
   "metadata": {
    "id": "E2pxU14xySw5"
   },
   "outputs": [],
   "source": [
    "from google.colab import drive\n",
    "drive.mount('/content/drive', force_remount=True)"
   ]
  },
  {
   "cell_type": "code",
   "execution_count": null,
   "metadata": {
    "id": "kbMHEMOZSZ_Z"
   },
   "outputs": [],
   "source": [
    "#GitHub playlist URL\n",
    "URL = \"https://www.youtube.com/playlist?list=\""
   ]
  },
  {
   "cell_type": "code",
   "execution_count": null,
   "metadata": {
    "id": "Tapm0mG3F5ba"
   },
   "outputs": [],
   "source": [
    "!pip install youtube_dl\n",
    "import youtube_dl\n",
    "\n",
    "with youtube_dl.YoutubeDL({\"ignoreerrors\": True, \"quiet\": True}) as ydl:\n",
    "        playlist_dict = ydl.extract_info(URL, download=False)\n",
    "\n",
    "print(playlist_dict['title'])\n",
    "\n",
    "import os\n",
    "new_folder = playlist_dict['title']\n",
    "path = f\"//content//drive//MyDrive//{new_folder}\"\n",
    "os.makedirs(path, exist_ok=True)\n",
    "\n",
    "%cd /content/drive/MyDrive/{new_folder}"
   ]
  },
  {
   "cell_type": "code",
   "execution_count": null,
   "metadata": {
    "id": "7RBGT0nnZNzk"
   },
   "outputs": [],
   "source": [
    "!sudo curl -L https://yt-dl.org/downloads/latest/youtube-dl -o /usr/local/bin/youtube-dl"
   ]
  },
  {
   "cell_type": "code",
   "execution_count": null,
   "metadata": {
    "id": "m3l8wAQ_cF0J"
   },
   "outputs": [],
   "source": [
    "!sudo chmod a+rx /usr/local/bin/youtube-dl"
   ]
  },
  {
   "cell_type": "code",
   "execution_count": null,
   "metadata": {
    "id": "RCzaTrCJSGJt"
   },
   "outputs": [],
   "source": [
    "!youtube-dl --write-sub  --write-auto-sub --sub-lang en --skip-download -o \"%(autonumber)s_%(title)s.%(ext)s\" {URL}"
   ]
  },
  {
   "cell_type": "code",
   "execution_count": null,
   "metadata": {
    "id": "dSvE6-En7qx9"
   },
   "outputs": [],
   "source": [
    "!youtube-dl -f  '(bestvideo+bestaudio/best)'  -ciw -o \"%(autonumber)s_%(title)s.%(ext)s\" -v {URL}"
   ]
  }
 ],
 "metadata": {
  "colab": {
   "collapsed_sections": [],
   "include_colab_link": true,
   "name": "Copy of Youtubedl.ipynb",
   "provenance": [],
   "toc_visible": true
  },
  "kernelspec": {
   "display_name": "Python 3 (ipykernel)",
   "language": "python",
   "name": "python3"
  },
  "language_info": {
   "codemirror_mode": {
    "name": "ipython",
    "version": 3
   },
   "file_extension": ".py",
   "mimetype": "text/x-python",
   "name": "python",
   "nbconvert_exporter": "python",
   "pygments_lexer": "ipython3",
   "version": "3.9.7"
  }
 },
 "nbformat": 4,
 "nbformat_minor": 1
}

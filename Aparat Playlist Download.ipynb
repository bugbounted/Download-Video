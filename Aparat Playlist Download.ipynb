{
 "cells": [
  {
   "cell_type": "code",
   "execution_count": null,
   "id": "277dfec7",
   "metadata": {},
   "outputs": [],
   "source": [
    "# !pip3 install tqdm requests beautifulsoup4 selenium webdriver_manager"
   ]
  },
  {
   "cell_type": "code",
   "execution_count": null,
   "id": "70c182f2",
   "metadata": {},
   "outputs": [],
   "source": [
    "import os\n",
    "import re\n",
    "import string\n",
    "import time\n",
    "from tqdm.notebook import tqdm\n",
    "import requests\n",
    "from bs4 import BeautifulSoup\n",
    "from selenium import webdriver\n",
    "from selenium.webdriver.common.keys import Keys\n",
    "from webdriver_manager.chrome import ChromeDriverManager\n",
    "from webdriver_manager.firefox import GeckoDriverManager\n",
    "from webdriver_manager.microsoft import EdgeChromiumDriverManager"
   ]
  },
  {
   "cell_type": "markdown",
   "id": "79486d3c",
   "metadata": {},
   "source": [
    "# Set URL"
   ]
  },
  {
   "cell_type": "code",
   "execution_count": null,
   "id": "2d8a9684",
   "metadata": {},
   "outputs": [],
   "source": [
    "playlist = 1111\n",
    "URL = f\"https://www.aparat.com/playlist/{playlist}\""
   ]
  },
  {
   "cell_type": "markdown",
   "id": "8193cd7b",
   "metadata": {},
   "source": [
    "# Get Page"
   ]
  },
  {
   "cell_type": "code",
   "execution_count": null,
   "id": "a49802d6",
   "metadata": {},
   "outputs": [],
   "source": [
    "def get_soup(URL, driver='Chrome'):\n",
    "    if driver=='Chrome':   \n",
    "        driver = webdriver.Chrome(ChromeDriverManager().install())\n",
    "    elif driver=='Firefox':\n",
    "        driver = webdriver.Firefox(GeckoDriverManager().install())\n",
    "    elif driver=='Edge':\n",
    "        driver = webdriver.Edge(EdgeChromiumDriverManager().install())\n",
    "    \n",
    "    driver.get(URL)\n",
    "    html = driver.page_source\n",
    "    soup = BeautifulSoup(html, \"html.parser\")    \n",
    "    return soup\n",
    "#\n",
    "soup = get_soup(URL)"
   ]
  },
  {
   "cell_type": "markdown",
   "id": "a74f41fa",
   "metadata": {},
   "source": [
    "# Create Folder"
   ]
  },
  {
   "cell_type": "code",
   "execution_count": null,
   "id": "350e19d6",
   "metadata": {},
   "outputs": [],
   "source": [
    "title = soup.find('div', attrs={'class': 'playlist-field'}).get_text()\n",
    "path = 'E:\\\\Video_DL\\\\' + title\n",
    "\n",
    "try:\n",
    "    os.makedirs(path)\n",
    "    print(path)\n",
    "    print('This folder is created')\n",
    "except:\n",
    "    print(path)\n",
    "    print('This folder is exist')\n",
    "\n",
    "#    \n",
    "os.chdir(path)  "
   ]
  },
  {
   "cell_type": "markdown",
   "id": "545eaa24",
   "metadata": {},
   "source": [
    "# Downlaod Courses"
   ]
  },
  {
   "cell_type": "code",
   "execution_count": null,
   "id": "57d8b55d",
   "metadata": {},
   "outputs": [],
   "source": [
    "download_urls = []\n",
    "playlist_items = soup.find_all('li', attrs={'class': 'playlist-item'})\n",
    "\n",
    "x = \"۰۱۲۳۴۵۶۷۸۹\"\n",
    "y = \"0123456789\"\n",
    "table_digit = str.maketrans(x, y)\n",
    "table_punctuation = str.maketrans(string.punctuation, '_'*len(string.punctuation))\n",
    "\n",
    "with tqdm(total  =len(playlist_items)) as pbar:\n",
    "    for index, a in enumerate(playlist_items):\n",
    "        isok = True\n",
    "        while isok:\n",
    "            try:\n",
    "                a_tag = a.find('div', attrs={'class': 'thumb-content'}).find('a', href=True, text=True)\n",
    "                item_url = 'https://www.aparat.com' + a_tag['href']\n",
    "                item_title = a_tag.get_text()\n",
    "                print(item_title)\n",
    "                \n",
    "                file_name = str(index+1) + '_' + item_title.translate(table_punctuation)              \n",
    "                file_name = file_name.translate(table_digit) + '.mp4'                              \n",
    "                   \n",
    "                if os.path.exists(file_name)==False:\n",
    "                    item_soup = get_soup(item_url)\n",
    "                    file_url = item_soup.find(\"meta\", property=\"og:video\")['content']\n",
    "\n",
    "                    print(file_name)\n",
    "                    print(file_url)\n",
    "\n",
    "                    download_urls.append(file_url)\n",
    "                    r = requests.get(file_url, stream = True) \n",
    "                    \n",
    "                    os.chdir(path)\n",
    "                    with open(file_name,\"wb\") as video: \n",
    "                        for chunk in r.iter_content(chunk_size=1024):         \n",
    "                            if chunk: \n",
    "                                video.write(chunk) \n",
    "                isok = False\n",
    "            except :\n",
    "                print('Error')\n",
    "                isok = True\n",
    "        pbar.update(1)"
   ]
  }
 ],
 "metadata": {
  "kernelspec": {
   "display_name": "Python 3 (ipykernel)",
   "language": "python",
   "name": "python3"
  },
  "language_info": {
   "codemirror_mode": {
    "name": "ipython",
    "version": 3
   },
   "file_extension": ".py",
   "mimetype": "text/x-python",
   "name": "python",
   "nbconvert_exporter": "python",
   "pygments_lexer": "ipython3",
   "version": "3.9.12"
  }
 },
 "nbformat": 4,
 "nbformat_minor": 5
}

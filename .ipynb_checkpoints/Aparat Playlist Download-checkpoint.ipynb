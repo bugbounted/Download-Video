{
 "cells": [
  {
   "cell_type": "code",
   "execution_count": null,
   "id": "70c182f2",
   "metadata": {},
   "outputs": [],
   "source": [
    "import os\n",
    "import time\n",
    "\n",
    "import requests\n",
    "from bs4 import BeautifulSoup\n",
    "\n",
    "from selenium.webdriver.common.keys import Keys\n",
    "\n",
    "from tqdm.notebook import tqdm\n",
    "\n",
    "from selenium import webdriver\n",
    "from webdriver_manager.chrome import ChromeDriverManager\n",
    "from webdriver_manager.firefox import GeckoDriverManager"
   ]
  },
  {
   "cell_type": "code",
   "execution_count": null,
   "id": "2d8a9684",
   "metadata": {},
   "outputs": [],
   "source": [
    "playlist = 0\n",
    "URL = f\"https://www.aparat.com/playlist/{playlist}\""
   ]
  },
  {
   "cell_type": "markdown",
   "id": "8193cd7b",
   "metadata": {},
   "source": [
    "# Get Page"
   ]
  },
  {
   "cell_type": "code",
   "execution_count": null,
   "id": "a49802d6",
   "metadata": {},
   "outputs": [],
   "source": [
    "def get_soup(URL):\n",
    "    #     driver = webdriver.Firefox(GeckoDriverManager().install())\n",
    "    driver = webdriver.Chrome(ChromeDriverManager().install())\n",
    "    driver.get(URL)\n",
    "    html = driver.page_source\n",
    "    soup = BeautifulSoup(html, \"html.parser\")\n",
    "    \n",
    "    return soup\n",
    "\n",
    "soup = get_soup(URL)"
   ]
  },
  {
   "cell_type": "markdown",
   "id": "a74f41fa",
   "metadata": {},
   "source": [
    "# Create Folder"
   ]
  },
  {
   "cell_type": "code",
   "execution_count": null,
   "id": "350e19d6",
   "metadata": {},
   "outputs": [],
   "source": [
    "title = soup.find('div', attrs={'class': 'playlist-field'}).get_text()\n",
    "path = 'D:\\\\Video_DL\\\\' + title\n",
    "\n",
    "try:\n",
    "    os.mkdir(path)\n",
    "    print(path)\n",
    "    print('This folder is created')\n",
    "except:\n",
    "    print(path)\n",
    "    print('This folder is exist')"
   ]
  },
  {
   "cell_type": "markdown",
   "id": "545eaa24",
   "metadata": {},
   "source": [
    "# Downlaod Courses"
   ]
  },
  {
   "cell_type": "code",
   "execution_count": null,
   "id": "57d8b55d",
   "metadata": {},
   "outputs": [],
   "source": [
    "download_urls = []\n",
    "playlist_items = soup.find_all('li', attrs={'class': 'playlist-item'})\n",
    "\n",
    "with tqdm(total  =len(playlist_items)) as pbar:\n",
    "    for index, a in enumerate(playlist_items):\n",
    "        isok = True\n",
    "        while isok:\n",
    "            try:\n",
    "                a_tag = a.find('div', attrs={'class': 'content'}).find('a', href=True, text=True)\n",
    "                item_url = 'https://www.aparat.com' + a_tag['href']\n",
    "                item_title = a_tag.get_text()\n",
    "                print(item_title)\n",
    "\n",
    "                file_name = str(index+1) + '_' + item_title + '.mp4'\n",
    "                file_name = \"\".join( x  if (x.isalnum() or x in \"._-,، \") else '-' for x in file_name)\n",
    "\n",
    "                file_path = os.path.join(path, file_name)\n",
    "\n",
    "                if os.path.exists(file_path)==False:\n",
    "                    item_soup = get_soup(item_url)\n",
    "                    file_url = item_soup.find(\"meta\", property=\"og:video\")['content'].split('?')[0].replace('.apt', '.mp4')\n",
    "\n",
    "                    print(file_name)\n",
    "                    print(file_url)\n",
    "\n",
    "                    download_urls.append(file_url)\n",
    "\n",
    "                    r = requests.get(file_url, stream = True)   \n",
    "                    with open(file_path,\"wb\") as video: \n",
    "                        for chunk in r.iter_content(chunk_size=1024):         \n",
    "                            if chunk: \n",
    "                                video.write(chunk) \n",
    "                isok = False\n",
    "            except:\n",
    "                print('Error')\n",
    "                isok = True\n",
    "        pbar.update(1)"
   ]
  },
  {
   "cell_type": "code",
   "execution_count": null,
   "id": "337d4877",
   "metadata": {},
   "outputs": [],
   "source": []
  },
  {
   "cell_type": "code",
   "execution_count": null,
   "id": "cff27569",
   "metadata": {},
   "outputs": [],
   "source": []
  }
 ],
 "metadata": {
  "kernelspec": {
   "display_name": "Python 3 (ipykernel)",
   "language": "python",
   "name": "python3"
  },
  "language_info": {
   "codemirror_mode": {
    "name": "ipython",
    "version": 3
   },
   "file_extension": ".py",
   "mimetype": "text/x-python",
   "name": "python",
   "nbconvert_exporter": "python",
   "pygments_lexer": "ipython3",
   "version": "3.9.7"
  }
 },
 "nbformat": 4,
 "nbformat_minor": 5
}

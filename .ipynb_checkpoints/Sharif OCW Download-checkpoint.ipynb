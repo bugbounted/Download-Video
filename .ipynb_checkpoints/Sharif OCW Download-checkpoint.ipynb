{
 "cells": [
  {
   "cell_type": "code",
   "execution_count": 4,
   "metadata": {},
   "outputs": [],
   "source": [
    "import os\n",
    "import time\n",
    "\n",
    "import requests\n",
    "from bs4 import BeautifulSoup\n",
    "\n",
    "from selenium.webdriver.common.keys import Keys\n",
    "\n",
    "from tqdm.notebook import tqdm\n",
    "\n",
    "from selenium import webdriver\n",
    "from webdriver_manager.firefox import GeckoDriverManager\n",
    "from webdriver_manager.chrome import ChromeDriverManager"
   ]
  },
  {
   "cell_type": "code",
   "execution_count": 5,
   "metadata": {},
   "outputs": [],
   "source": [
    "playlist = 0\n",
    "URL = f\"http://ocw.sharif.edu/course/id/{playlist}\"\n",
    "start_to_download = 0"
   ]
  },
  {
   "cell_type": "markdown",
   "metadata": {},
   "source": [
    "# Get Course Data"
   ]
  },
  {
   "cell_type": "code",
   "execution_count": 6,
   "metadata": {},
   "outputs": [
    {
     "name": "stderr",
     "output_type": "stream",
     "text": [
      "\n",
      "\n",
      "====== WebDriver manager ======\n",
      "Current google-chrome version is 98.0.4758\n",
      "Get LATEST chromedriver version for 98.0.4758 google-chrome\n",
      "There is no [win32] chromedriver for browser  in cache\n",
      "Trying to download new driver from https://chromedriver.storage.googleapis.com/98.0.4758.102/chromedriver_win32.zip\n",
      "Driver has been saved in cache [C:\\Users\\TC\\.wdm\\drivers\\chromedriver\\win32\\98.0.4758.102]\n"
     ]
    }
   ],
   "source": [
    "def get_soup(URL):\n",
    "    #     driver = webdriver.Firefox(GeckoDriverManager().install())\n",
    "    driver = webdriver.Chrome(ChromeDriverManager().install())\n",
    "    driver.get(URL)\n",
    "    html = driver.page_source\n",
    "    soup = BeautifulSoup(html, \"html.parser\")\n",
    "    \n",
    "    return soup\n",
    "\n",
    "soup = get_soup(URL)"
   ]
  },
  {
   "cell_type": "code",
   "execution_count": 7,
   "metadata": {},
   "outputs": [
    {
     "name": "stdout",
     "output_type": "stream",
     "text": [
      "سعید اکبری\n"
     ]
    }
   ],
   "source": [
    "title = soup.find('div', attrs={'id': 'd_desc'})\n",
    "teacher = soup.find('div', attrs={'id': 'd_teacher'}).find_all('a')[1].get_text().strip()\n",
    "print(teacher)"
   ]
  },
  {
   "cell_type": "code",
   "execution_count": 12,
   "metadata": {},
   "outputs": [
    {
     "name": "stdout",
     "output_type": "stream",
     "text": [
      "D:\\Video_DL\\جبر خطی-سعید اکبری\n",
      "This Folder Is Exist\n"
     ]
    }
   ],
   "source": [
    "path = 'D:\\\\Video_DL\\\\' + title.find('h1', attrs={'class':'-h2'}).get_text() + '-' + teacher\n",
    "try:\n",
    "    os.makedirs(path)\n",
    "    print(path)\n",
    "    print('The Folder is Created')\n",
    "except:\n",
    "    print(path)\n",
    "    print('This Folder Is Exist')"
   ]
  },
  {
   "cell_type": "markdown",
   "metadata": {},
   "source": [
    "# Download Courses"
   ]
  },
  {
   "cell_type": "code",
   "execution_count": 13,
   "metadata": {},
   "outputs": [],
   "source": [
    "download_urls = []\n",
    "\n",
    "d_video = soup.find('div', attrs={'id': 'd_video'})\n",
    "for tag in d_video.select('div.ng-hide'):\n",
    "    tag.decompose()\n",
    "\n",
    "seesion_list = d_video.find('div', attrs={'class': 'seesion_list'})\n",
    "playlist_items = seesion_list.find_all('div', attrs={'class': 'ng-scope'})"
   ]
  },
  {
   "cell_type": "code",
   "execution_count": 16,
   "metadata": {},
   "outputs": [
    {
     "data": {
      "application/vnd.jupyter.widget-view+json": {
       "model_id": "6f5a2e5df1ff4751a2a2c72aa9adc30f",
       "version_major": 2,
       "version_minor": 0
      },
      "text/plain": [
       "  0%|          | 0/1 [00:00<?, ?it/s]"
      ]
     },
     "metadata": {},
     "output_type": "display_data"
    },
    {
     "name": "stdout",
     "output_type": "stream",
     "text": [
      "<Response [200]>\n",
      "http://ocw.sharif.edu/cms/ocw/e6a7fab082c8ef66e96aa4262a89cb5a.m4v\n",
      "Error: جلسه\n",
      "                                                 \n",
      "                                                ی\n",
      "                                                1\n"
     ]
    }
   ],
   "source": [
    "download_urls = []\n",
    "with tqdm(total  =len(playlist_items)) as pbar:\n",
    "    for index, item in enumerate(playlist_items):\n",
    "        if (index+1) >= start_to_download:      \n",
    "            a = item.find_all('a')        \n",
    "\n",
    "            file_url = a[-1]['href']\n",
    "            item_title = a[0]['ng-title'].strip()\n",
    "            \n",
    "#             if (item_title==''):\n",
    "#                 item_title = item.find('div', attrs = {'class': 'ng-binding'}).get_text().strip()\n",
    "            \n",
    "            file_name = str(index+1) + '_' + item_title + '.mp4'\n",
    "            file_name = \"\".join( x  if (x.isalnum() or x in \"._-,، \") else '-' for x in file_name)\n",
    "    #         <>:\"/\\|?*\n",
    "\n",
    "            file_path = os.path.join(path, file_name)\n",
    "\n",
    "            if len(file_path)>=260:\n",
    "                file_path = file_path.split('.mp4')[0][:200]+'.mp4'\n",
    "\n",
    "            if os.path.exists(file_path)==False:\n",
    "\n",
    "                download_urls.append(file_url)\n",
    "                try:\n",
    "                    headers = {'Accept-Language': 'en-US,en;q=0.9,te;q=0.8'}\n",
    "                    r = requests.get(file_url, allow_redirects=True, stream=True, headers=headers)  \n",
    "                    print(r)\n",
    "                    print(file_url)\n",
    "                    if r != '<Response [404]>':\n",
    "                        with open(file_path.strip(),\"wb\") as video: \n",
    "                            for chunk in r.iter_content(chunk_size=1024):         \n",
    "                                if chunk: \n",
    "                                    video.write(chunk) \n",
    "                    else:\n",
    "                        print(item_title, r)\n",
    "                except:\n",
    "                    print(f'Error: {item_title}')\n",
    "                \n",
    "        pbar.update(1)"
   ]
  },
  {
   "cell_type": "markdown",
   "metadata": {},
   "source": [
    "# Download Practice"
   ]
  },
  {
   "cell_type": "code",
   "execution_count": null,
   "metadata": {},
   "outputs": [],
   "source": [
    "d_practice = soup.find('div', attrs={'id': 'd_practice'})\n",
    "for tag in d_practice.select('div.ng-hide'):\n",
    "    tag.decompose()\n",
    "\n",
    "seesion_list = d_practice.find('div', attrs={'class': 'seesion_list'})\n",
    "playlist_items = seesion_list.find_all('div', attrs={'class': 'ng-scope'})"
   ]
  },
  {
   "cell_type": "code",
   "execution_count": null,
   "metadata": {},
   "outputs": [],
   "source": [
    "download_urls = []\n",
    "with tqdm(total  =len(playlist_items)) as pbar:\n",
    "    for index, item in enumerate(playlist_items):\n",
    "        a = item.find_all('a')        \n",
    "      \n",
    "        file_url = a[-1]['href']\n",
    "        \n",
    "        s = item.find('div', attrs={'class':'ng-binding'}).get_text()\n",
    "        d=''\n",
    "        for i in s.splitlines():\n",
    "            d += i.strip()\n",
    "\n",
    "        item_title = d.strip()\n",
    "\n",
    "      \n",
    "        file_name = str(index+1) + '_' + item_title + '.mp4'\n",
    "        file_name = \"\".join( x  if (x.isalnum() or x in \"._-,، \") else '-' for x in file_name)\n",
    "#         <>:\"/\\|?*\n",
    "        file_path = os.path.join(path, file_name)\n",
    "        if os.path.exists(file_path)==False:\n",
    "            \n",
    "            download_urls.append(file_url)\n",
    "            \n",
    "            r = requests.get(file_url, stream = True)   \n",
    "            with open(file_path,\"wb\") as video: \n",
    "                for chunk in r.iter_content(chunk_size=1024):         \n",
    "                    if chunk: \n",
    "                        video.write(chunk) \n",
    "        pbar.update(1)"
   ]
  },
  {
   "cell_type": "code",
   "execution_count": null,
   "metadata": {},
   "outputs": [],
   "source": []
  },
  {
   "cell_type": "code",
   "execution_count": null,
   "metadata": {},
   "outputs": [],
   "source": []
  },
  {
   "cell_type": "code",
   "execution_count": null,
   "metadata": {},
   "outputs": [],
   "source": []
  }
 ],
 "metadata": {
  "kernelspec": {
   "display_name": "Python 3 (ipykernel)",
   "language": "python",
   "name": "python3"
  },
  "language_info": {
   "codemirror_mode": {
    "name": "ipython",
    "version": 3
   },
   "file_extension": ".py",
   "mimetype": "text/x-python",
   "name": "python",
   "nbconvert_exporter": "python",
   "pygments_lexer": "ipython3",
   "version": "3.9.7"
  }
 },
 "nbformat": 4,
 "nbformat_minor": 2
}
